{
 "cells": [
  {
   "cell_type": "code",
   "execution_count": 7,
   "id": "476f9db9-0597-4e06-aa3b-2ef084529c26",
   "metadata": {
    "tags": []
   },
   "outputs": [],
   "source": [
    "import pandas as pd"
   ]
  },
  {
   "cell_type": "code",
   "execution_count": 8,
   "id": "97c7343a-68fe-46c3-b71d-d00ce1c35c17",
   "metadata": {
    "tags": []
   },
   "outputs": [],
   "source": [
    "clusters = pd.read_csv(\"/standard/BDShackathon/teams/cherry_garcia/cleaned_clinical_data_csvs/aml_cll_clusters.csv\")\n",
    "rnaseq = pd.read_csv(\"/standard/BDShackathon/teams/cherry_garcia/jamie-counts-vst.csv\")\n",
    "rnaseq = rnaseq.rename(columns={rnaseq.columns[0]: \"AvatarKey\"})\n",
    "cll = clusters[clusters['Cluster'].str.contains(\"CLL\")]\n",
    "cll_avatar_keys = cll['AvatarKey']\n",
    "rnaseq_cll = rnaseq[rnaseq['AvatarKey'].isin(cll_avatar_keys)]"
   ]
  },
  {
   "cell_type": "code",
   "execution_count": 25,
   "id": "b541b054-d3f3-4949-92bd-8360630a4c53",
   "metadata": {
    "tags": []
   },
   "outputs": [
    {
     "name": "stderr",
     "output_type": "stream",
     "text": [
      "WARNING:biothings.client:Input sequence provided is already in string format. No operation performed\n",
      "WARNING:biothings.client:Input sequence provided is already in string format. No operation performed\n",
      "INFO:biothings.client:querying 1-1000 ...\n",
      "INFO:biothings.client:querying 1001-2000 ...\n",
      "INFO:biothings.client:querying 2001-3000 ...\n",
      "INFO:biothings.client:querying 3001-4000 ...\n",
      "INFO:biothings.client:querying 4001-5000 ...\n",
      "INFO:biothings.client:querying 5001-6000 ...\n",
      "INFO:biothings.client:querying 6001-7000 ...\n",
      "INFO:biothings.client:querying 7001-8000 ...\n",
      "INFO:biothings.client:querying 8001-9000 ...\n",
      "INFO:biothings.client:querying 9001-10000 ...\n",
      "INFO:biothings.client:querying 10001-11000 ...\n",
      "INFO:biothings.client:querying 11001-12000 ...\n",
      "INFO:biothings.client:querying 12001-13000 ...\n",
      "INFO:biothings.client:querying 13001-14000 ...\n",
      "INFO:biothings.client:querying 14001-15000 ...\n",
      "INFO:biothings.client:querying 15001-16000 ...\n",
      "INFO:biothings.client:querying 16001-17000 ...\n",
      "INFO:biothings.client:querying 17001-18000 ...\n",
      "INFO:biothings.client:querying 18001-19000 ...\n",
      "INFO:biothings.client:querying 19001-20000 ...\n",
      "INFO:biothings.client:querying 20001-21000 ...\n",
      "INFO:biothings.client:querying 21001-21366 ...\n",
      "INFO:biothings.client:Finished.\n",
      "WARNING:biothings.client:1 input query terms found dup hits:\t[('ENSG00000270726', 2)]\n",
      "WARNING:biothings.client:16129 input query terms found no hit:\t['DPM1', 'CFH', 'NFYA', 'LAS1L', 'CFTR', 'KRIT1', 'MYH16', 'BAD', 'LAP3', 'AOC1', 'MAD1L1', 'SNX11',\n",
      "INFO:biothings.client:Pass \"returnall=True\" to return complete lists of duplicate or missing query terms.\n"
     ]
    },
    {
     "ename": "TypeError",
     "evalue": "get_library_name() got an unexpected keyword argument 'name'",
     "output_type": "error",
     "traceback": [
      "\u001b[0;31m---------------------------------------------------------------------------\u001b[0m",
      "\u001b[0;31mTypeError\u001b[0m                                 Traceback (most recent call last)",
      "Cell \u001b[0;32mIn[25], line 27\u001b[0m\n\u001b[1;32m     24\u001b[0m rnaseq_cll_matrix \u001b[38;5;241m=\u001b[39m rnaseq_cll\u001b[38;5;241m.\u001b[39mtranspose()\n\u001b[1;32m     26\u001b[0m \u001b[38;5;66;03m# Step 8: Prepare the hallmark gene sets (or load your own)\u001b[39;00m\n\u001b[0;32m---> 27\u001b[0m hallmark_gene_sets \u001b[38;5;241m=\u001b[39m \u001b[43mgp\u001b[49m\u001b[38;5;241;43m.\u001b[39;49m\u001b[43mget_library_name\u001b[49m\u001b[43m(\u001b[49m\u001b[43mname\u001b[49m\u001b[38;5;241;43m=\u001b[39;49m\u001b[38;5;124;43m'\u001b[39;49m\u001b[38;5;124;43mMSigDB_Hallmark_2020\u001b[39;49m\u001b[38;5;124;43m'\u001b[39;49m\u001b[43m)\u001b[49m\n\u001b[1;32m     29\u001b[0m \u001b[38;5;66;03m# Step 9: Run ssGSEA\u001b[39;00m\n\u001b[1;32m     30\u001b[0m ssgsea_results \u001b[38;5;241m=\u001b[39m gp\u001b[38;5;241m.\u001b[39mssgsea(\n\u001b[1;32m     31\u001b[0m     data\u001b[38;5;241m=\u001b[39mrnaseq_cll_matrix,  \u001b[38;5;66;03m# Transposed data (genes as rows)\u001b[39;00m\n\u001b[1;32m     32\u001b[0m     gene_sets\u001b[38;5;241m=\u001b[39mhallmark_gene_sets,  \u001b[38;5;66;03m# Gene set (hallmark)\u001b[39;00m\n\u001b[0;32m   (...)\u001b[0m\n\u001b[1;32m     35\u001b[0m     permutation_num\u001b[38;5;241m=\u001b[39m\u001b[38;5;241m0\u001b[39m  \u001b[38;5;66;03m# No permutation for now\u001b[39;00m\n\u001b[1;32m     36\u001b[0m )\n",
      "\u001b[0;31mTypeError\u001b[0m: get_library_name() got an unexpected keyword argument 'name'"
     ]
    }
   ],
   "source": [
    "import pandas as pd\n",
    "from mygene import MyGeneInfo\n",
    "import gseapy as gp\n",
    "\n",
    "\n",
    "# Step 2: Remove the version numbers from Ensembl IDs (i.e., \".12\" at the end)\n",
    "rnaseq_cll = rnaseq_cll.rename(columns=lambda x: x.split('.')[0] if isinstance(x, str) else x)\n",
    "\n",
    "# Step 3: Map Ensembl IDs to Gene Symbols\n",
    "mg = MyGeneInfo()\n",
    "# Query for gene symbols based on Ensembl IDs\n",
    "mapping = mg.querymany(rnaseq_cll.columns.tolist(), scopes='ensembl.gene', fields='symbol', species='human')\n",
    "\n",
    "# Step 4: Create a mapping dictionary for Ensembl to Gene Symbol conversion\n",
    "ensembl_to_symbol = {entry['query']: entry.get('symbol') for entry in mapping if 'symbol' in entry}\n",
    "\n",
    "# Step 5: Rename the columns (Ensembl IDs to Gene Symbols)\n",
    "rnaseq_cll = rnaseq_cll.rename(columns=ensembl_to_symbol)\n",
    "\n",
    "# Step 6: Drop columns that couldn't be mapped to gene symbols\n",
    "rnaseq_cll = rnaseq_cll.dropna(axis=1)\n",
    "\n",
    "# Step 7: Transpose the data (genes as rows, samples as columns)\n",
    "rnaseq_cll_matrix = rnaseq_cll.transpose()\n"
   ]
  },
  {
   "cell_type": "code",
   "execution_count": 31,
   "id": "4fdb78b1-4161-44e3-9c9e-77fde41be0d9",
   "metadata": {
    "tags": []
   },
   "outputs": [
    {
     "name": "stderr",
     "output_type": "stream",
     "text": [
      "2025-04-26 14:20:04,528 [WARNING] Found duplicated gene names, values averaged by gene names!\n"
     ]
    }
   ],
   "source": [
    "\n",
    "\n",
    "# Step 8: Prepare the hallmark gene sets (or load your own)\n",
    "hallmark_gene_sets = gp.get_library(name='MSigDB_Hallmark_2020')\n",
    "\n",
    "# Step 9: Run ssGSEA\n",
    "ssgsea_results = gp.ssgsea(\n",
    "    data=rnaseq_cll_matrix,  # Transposed data (genes as rows)\n",
    "    gene_sets=hallmark_gene_sets,  # Gene set (hallmark)\n",
    "    outdir=None,  # Don't save output to file\n",
    "    sample_norm_method='rank',  # Normalization method\n",
    "    permutation_num=0  # No permutation for now\n",
    ")\n",
    "\n",
    "# Step 10: Extract the enrichment scores\n",
    "gsva_scores = ssgsea_results.res2d"
   ]
  },
  {
   "cell_type": "code",
   "execution_count": 37,
   "id": "b06737f0-f008-4fc2-8b8d-a6c0c855848d",
   "metadata": {
    "tags": []
   },
   "outputs": [],
   "source": [
    "gsva_scores.to_csv(\"/standard/BDShackathon/teams/cherry_garcia/gsva_scores.csv\")\n"
   ]
  }
 ],
 "metadata": {
  "kernelspec": {
   "display_name": "Python 3 (ipykernel)",
   "language": "python",
   "name": "python3"
  },
  "language_info": {
   "codemirror_mode": {
    "name": "ipython",
    "version": 3
   },
   "file_extension": ".py",
   "mimetype": "text/x-python",
   "name": "python",
   "nbconvert_exporter": "python",
   "pygments_lexer": "ipython3",
   "version": "3.11.4"
  }
 },
 "nbformat": 4,
 "nbformat_minor": 5
}
